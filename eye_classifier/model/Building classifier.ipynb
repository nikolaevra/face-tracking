{
 "cells": [
  {
   "cell_type": "code",
   "execution_count": 1,
   "metadata": {},
   "outputs": [],
   "source": [
    "import numpy as np\n",
    "import pandas as pd\n",
    "import matplotlib.pyplot as plt\n",
    "\n",
    "%matplotlib inline"
   ]
  },
  {
   "cell_type": "code",
   "execution_count": 2,
   "metadata": {},
   "outputs": [
    {
     "data": {
      "image/png": "[encoded data removed]",
      "text/plain": [
       "<Figure size 432x288 with 1 Axes>"
      ]
     },
     "metadata": {},
     "output_type": "display_data"
    }
   ],
   "source": [
    "import PIL\n",
    "\n",
    "I = np.asarray(PIL.Image.open('video_1_frame_25_eye_0.png'))\n",
    "plt.imshow(I, interpolation='nearest')\n",
    "plt.show()"
   ]
  },
  {
   "cell_type": "code",
   "execution_count": 3,
   "metadata": {},
   "outputs": [
    {
     "data": {
      "text/plain": [
       "(50, 50, 3)"
      ]
     },
     "execution_count": 3,
     "metadata": {},
     "output_type": "execute_result"
    }
   ],
   "source": [
    "I.shape"
   ]
  },
  {
   "cell_type": "code",
   "execution_count": 4,
   "metadata": {},
   "outputs": [],
   "source": [
    "output = pd.read_csv('output.csv')\n",
    "output = output.sample(frac=1)\n",
    "data = output.values"
   ]
  },
  {
   "cell_type": "code",
   "execution_count": 5,
   "metadata": {},
   "outputs": [
    {
     "data": {
      "text/html": [
       "<div>\n",
       "<style scoped>\n",
       "    .dataframe tbody tr th:only-of-type {\n",
       "        vertical-align: middle;\n",
       "    }\n",
       "\n",
       "    .dataframe tbody tr th {\n",
       "        vertical-align: top;\n",
       "    }\n",
       "\n",
       "    .dataframe thead th {\n",
       "        text-align: right;\n",
       "    }\n",
       "</style>\n",
       "<table border=\"1\" class=\"dataframe\">\n",
       "  <thead>\n",
       "    <tr style=\"text-align: right;\">\n",
       "      <th></th>\n",
       "      <th>image</th>\n",
       "      <th>tag</th>\n",
       "    </tr>\n",
       "  </thead>\n",
       "  <tbody>\n",
       "    <tr>\n",
       "      <th>9</th>\n",
       "      <td>./video_1_frame_875_eye_1.png</td>\n",
       "      <td>open</td>\n",
       "    </tr>\n",
       "    <tr>\n",
       "      <th>391</th>\n",
       "      <td>./video_2_frame_313_eye_0.png</td>\n",
       "      <td>closed</td>\n",
       "    </tr>\n",
       "    <tr>\n",
       "      <th>42</th>\n",
       "      <td>./video_2_frame_500_eye_0.png</td>\n",
       "      <td>open</td>\n",
       "    </tr>\n",
       "    <tr>\n",
       "      <th>119</th>\n",
       "      <td>./video_3_frame_400_eye_1.png</td>\n",
       "      <td>other</td>\n",
       "    </tr>\n",
       "    <tr>\n",
       "      <th>299</th>\n",
       "      <td>./video_4_frame_925_eye_1.png</td>\n",
       "      <td>other</td>\n",
       "    </tr>\n",
       "  </tbody>\n",
       "</table>\n",
       "</div>"
      ],
      "text/plain": [
       "                             image     tag\n",
       "9    ./video_1_frame_875_eye_1.png    open\n",
       "391  ./video_2_frame_313_eye_0.png  closed\n",
       "42   ./video_2_frame_500_eye_0.png    open\n",
       "119  ./video_3_frame_400_eye_1.png   other\n",
       "299  ./video_4_frame_925_eye_1.png   other"
      ]
     },
     "execution_count": 5,
     "metadata": {},
     "output_type": "execute_result"
    }
   ],
   "source": [
    "output.head()"
   ]
  },
  {
   "cell_type": "code",
   "execution_count": 6,
   "metadata": {
    "scrolled": false
   },
   "outputs": [],
   "source": [
    "o = output[output[\"tag\"] == 'open']\n",
    "c = output[output[\"tag\"] == 'closed']\n",
    "ot = output[output[\"tag\"] == 'other']"
   ]
  },
  {
   "cell_type": "code",
   "execution_count": 7,
   "metadata": {},
   "outputs": [
    {
     "data": {
      "text/plain": [
       "51"
      ]
     },
     "execution_count": 7,
     "metadata": {},
     "output_type": "execute_result"
    }
   ],
   "source": [
    "o.count()[\"image\"]"
   ]
  },
  {
   "cell_type": "code",
   "execution_count": 8,
   "metadata": {},
   "outputs": [
    {
     "data": {
      "text/plain": [
       "90"
      ]
     },
     "execution_count": 8,
     "metadata": {},
     "output_type": "execute_result"
    }
   ],
   "source": [
    "c.count()[\"image\"]"
   ]
  },
  {
   "cell_type": "code",
   "execution_count": 9,
   "metadata": {},
   "outputs": [
    {
     "data": {
      "text/plain": [
       "253"
      ]
     },
     "execution_count": 9,
     "metadata": {},
     "output_type": "execute_result"
    }
   ],
   "source": [
    "ot.count()[\"image\"]"
   ]
  },
  {
   "cell_type": "code",
   "execution_count": 10,
   "metadata": {},
   "outputs": [],
   "source": [
    "import numpy as np\n",
    "from skimage import color, exposure, transform\n",
    "\n",
    "NUM_CLASSES = 3\n",
    "IMG_SIZE = 48\n",
    "\n",
    "\n",
    "def preprocess_img(img):\n",
    "    # Histogram normalization in v channel\n",
    "    hsv = color.rgb2hsv(img)\n",
    "    hsv[:, :, 2] = exposure.equalize_hist(hsv[:, :, 2])\n",
    "    img = color.hsv2rgb(hsv)\n",
    "\n",
    "    # central square crop\n",
    "    min_side = min(img.shape[:-1])\n",
    "    centre = img.shape[0] // 2, img.shape[1] // 2\n",
    "    img = img[centre[0] - min_side // 2:centre[0] + min_side // 2,\n",
    "              centre[1] - min_side // 2:centre[1] + min_side // 2,\n",
    "              :]\n",
    "\n",
    "    # rescale to standard size\n",
    "    img = transform.resize(img, (IMG_SIZE, IMG_SIZE))\n",
    "\n",
    "    # roll color axis to axis 0\n",
    "    img = np.rollaxis(img, -1)\n",
    "\n",
    "    return img"
   ]
  },
  {
   "cell_type": "code",
   "execution_count": 11,
   "metadata": {},
   "outputs": [
    {
     "name": "stderr",
     "output_type": "stream",
     "text": [
      "/home/nikolaevra/.local/lib/python3.5/site-packages/skimage/transform/_warps.py:84: UserWarning: The default mode, 'constant', will be changed to 'reflect' in skimage 0.15.\n",
      "  warn(\"The default mode, 'constant', will be changed to 'reflect' in \"\n"
     ]
    }
   ],
   "source": [
    "from skimage import io\n",
    "import os\n",
    "import glob\n",
    "from sklearn import preprocessing\n",
    "\n",
    "le = preprocessing.LabelEncoder()\n",
    "y_binary = le.fit_transform(data[:, 1])\n",
    "y_binary\n",
    "\n",
    "imgs = []\n",
    "labels = y_binary\n",
    "all_img_paths = data[:, 0]\n",
    "\n",
    "for img_path in all_img_paths:\n",
    "    img = preprocess_img(io.imread(img_path))\n",
    "    imgs.append(img)\n",
    "\n",
    "\n",
    "X = np.array(imgs, dtype='float32')\n",
    "Y = np.eye(NUM_CLASSES, dtype='uint8')[labels]"
   ]
  },
  {
   "cell_type": "code",
   "execution_count": 12,
   "metadata": {},
   "outputs": [
    {
     "data": {
      "text/plain": [
       "array([1, 0, 1, 2, 2, 0, 0, 2, 2, 0, 2, 0, 2, 0, 2, 1, 1, 2, 2, 0, 2, 2,\n",
       "       1, 2, 0, 2, 1, 2, 2, 1, 2, 2, 2, 2, 0, 2, 2, 2, 0, 0, 2, 2, 2, 2,\n",
       "       0, 0, 2, 2, 2, 2, 2, 2, 2, 2, 1, 2, 2, 2, 2, 2, 2, 2, 2, 2, 1, 0,\n",
       "       2, 2, 2, 0, 2, 2, 2, 0, 2, 2, 2, 1, 1, 1, 0, 2, 2, 2, 2, 2, 0, 0,\n",
       "       2, 0, 0, 2, 2, 2, 0, 1, 2, 2, 2, 2, 2, 0, 2, 0, 2, 0, 1, 2, 0, 2,\n",
       "       1, 0, 0, 0, 1, 2, 0, 2, 0, 0, 1, 2, 1, 2, 2, 0, 2, 0, 2, 2, 2, 2,\n",
       "       2, 2, 2, 2, 2, 0, 2, 2, 2, 2, 2, 0, 2, 2, 2, 2, 1, 2, 2, 1, 2, 2,\n",
       "       0, 2, 2, 2, 2, 1, 2, 0, 2, 2, 2, 1, 0, 2, 0, 2, 2, 1, 2, 2, 2, 0,\n",
       "       2, 2, 2, 2, 2, 0, 2, 2, 1, 2, 2, 1, 2, 2, 2, 2, 2, 2, 2, 2, 2, 2,\n",
       "       2, 1, 2, 1, 2, 2, 2, 0, 2, 2, 2, 2, 0, 2, 1, 1, 0, 2, 2, 2, 2, 2,\n",
       "       0, 2, 2, 2, 2, 2, 1, 2, 0, 1, 2, 2, 0, 2, 0, 2, 0, 0, 2, 0, 2, 0,\n",
       "       1, 2, 1, 2, 0, 0, 2, 2, 2, 2, 2, 2, 2, 1, 2, 2, 1, 2, 2, 1, 0, 2,\n",
       "       2, 0, 0, 2, 2, 2, 2, 1, 2, 1, 0, 2, 2, 0, 0, 0, 2, 2, 2, 2, 2, 2,\n",
       "       1, 0, 2, 2, 0, 2, 1, 2, 0, 2, 2, 2, 2, 0, 2, 1, 2, 2, 2, 2, 2, 0,\n",
       "       2, 2, 0, 2, 0, 1, 2, 2, 2, 2, 0, 2, 1, 1, 0, 0, 2, 1, 2, 0, 2, 0,\n",
       "       2, 2, 0, 2, 2, 2, 0, 0, 1, 2, 2, 2, 0, 0, 2, 2, 2, 2, 2, 2, 0, 0,\n",
       "       2, 2, 0, 2, 2, 2, 1, 2, 2, 2, 1, 0, 0, 0, 2, 0, 0, 2, 2, 2, 2, 2,\n",
       "       1, 2, 0, 2, 0, 2, 0, 2, 2, 2, 2, 1, 2, 2, 2, 2, 2, 2, 2, 1])"
      ]
     },
     "execution_count": 12,
     "metadata": {},
     "output_type": "execute_result"
    }
   ],
   "source": [
    "y_binary\n",
    "# mapping = {\n",
    "#     2: \"Other\",\n",
    "#     1: \"Open\",\n",
    "#     0: \"Closed\"\n",
    "# }"
   ]
  },
  {
   "cell_type": "code",
   "execution_count": 15,
   "metadata": {},
   "outputs": [
    {
     "data": {
      "text/plain": [
       "<matplotlib.image.AxesImage at 0x7fcfd15dd240>"
      ]
     },
     "execution_count": 15,
     "metadata": {},
     "output_type": "execute_result"
    },
    {
     "data": {
      "image/png": "[encoded data removed]",
      "text/plain": [
       "<Figure size 432x288 with 1 Axes>"
      ]
     },
     "metadata": {},
     "output_type": "display_data"
    }
   ],
   "source": [
    "plt.imshow(io.imread(all_img_paths[3]), interpolation='nearest')"
   ]
  },
  {
   "cell_type": "code",
   "execution_count": 16,
   "metadata": {},
   "outputs": [
    {
     "name": "stderr",
     "output_type": "stream",
     "text": [
      "/home/nikolaevra/.local/lib/python3.5/site-packages/h5py/__init__.py:36: FutureWarning: Conversion of the second argument of issubdtype from `float` to `np.floating` is deprecated. In future, it will be treated as `np.float64 == np.dtype(float).type`.\n",
      "  from ._conv import register_converters as _register_converters\n",
      "Using TensorFlow backend.\n"
     ]
    }
   ],
   "source": [
    "from keras.models import Sequential\n",
    "from keras.layers.core import Dense, Dropout, Activation, Flatten\n",
    "from keras.layers.convolutional import Conv2D\n",
    "from keras.layers.pooling import MaxPooling2D\n",
    "from keras.optimizers import SGD\n",
    "from keras import backend as K\n",
    "K.set_image_data_format('channels_first')\n",
    "\n",
    "\n",
    "def cnn_model():\n",
    "    model = Sequential()\n",
    "\n",
    "    model.add(Conv2D(32, (3, 3), padding='same',\n",
    "                     input_shape=(3, IMG_SIZE, IMG_SIZE),\n",
    "                     activation='relu'))\n",
    "    model.add(Conv2D(32, (3, 3), activation='relu'))\n",
    "    model.add(MaxPooling2D(pool_size=(2, 2)))\n",
    "    model.add(Dropout(0.2))\n",
    "\n",
    "    model.add(Conv2D(64, (3, 3), padding='same',\n",
    "                     activation='relu'))\n",
    "    model.add(Conv2D(64, (3, 3), activation='relu'))\n",
    "    model.add(MaxPooling2D(pool_size=(2, 2)))\n",
    "    model.add(Dropout(0.2))\n",
    "\n",
    "    model.add(Conv2D(128, (3, 3), padding='same',\n",
    "                     activation='relu'))\n",
    "    model.add(Conv2D(128, (3, 3), activation='relu'))\n",
    "    model.add(MaxPooling2D(pool_size=(2, 2)))\n",
    "    model.add(Dropout(0.2))\n",
    "\n",
    "    model.add(Flatten())\n",
    "    model.add(Dense(512, activation='relu'))\n",
    "    model.add(Dropout(0.5))\n",
    "    model.add(Dense(NUM_CLASSES, activation='softmax'))\n",
    "    return model"
   ]
  },
  {
   "cell_type": "code",
   "execution_count": 17,
   "metadata": {},
   "outputs": [],
   "source": [
    "from keras.optimizers import SGD\n",
    "\n",
    "model = cnn_model()\n",
    "\n",
    "# let's train the model using SGD + momentum\n",
    "lr = 0.01\n",
    "sgd = SGD(lr=lr, decay=1e-6, momentum=0.9, nesterov=True)\n",
    "model.compile(loss='categorical_crossentropy', optimizer=sgd, metrics=['accuracy'])"
   ]
  },
  {
   "cell_type": "code",
   "execution_count": 19,
   "metadata": {
    "scrolled": true
   },
   "outputs": [
    {
     "name": "stdout",
     "output_type": "stream",
     "text": [
      "Train on 315 samples, validate on 79 samples\n",
      "Epoch 1/30\n",
      "315/315 [==============================] - 8s 24ms/step - loss: 0.9671 - acc: 0.6476 - val_loss: 0.8974 - val_acc: 0.6203\n",
      "Epoch 2/30\n",
      "315/315 [==============================] - 9s 28ms/step - loss: 0.8577 - acc: 0.6476 - val_loss: 0.8566 - val_acc: 0.6203\n",
      "Epoch 3/30\n",
      "315/315 [==============================] - 12s 39ms/step - loss: 0.8107 - acc: 0.6508 - val_loss: 0.7750 - val_acc: 0.6203\n",
      "Epoch 4/30\n",
      "315/315 [==============================] - 10s 33ms/step - loss: 0.7434 - acc: 0.6603 - val_loss: 0.6481 - val_acc: 0.7595\n",
      "Epoch 5/30\n",
      "315/315 [==============================] - 11s 36ms/step - loss: 0.6336 - acc: 0.7333 - val_loss: 0.5228 - val_acc: 0.8228\n",
      "Epoch 6/30\n",
      "315/315 [==============================] - 11s 34ms/step - loss: 0.5690 - acc: 0.7683 - val_loss: 0.4934 - val_acc: 0.8101\n",
      "Epoch 7/30\n",
      "315/315 [==============================] - 11s 34ms/step - loss: 0.5239 - acc: 0.8127 - val_loss: 0.4464 - val_acc: 0.8608\n",
      "Epoch 8/30\n",
      "315/315 [==============================] - 11s 34ms/step - loss: 0.5105 - acc: 0.7937 - val_loss: 0.3957 - val_acc: 0.8481\n",
      "Epoch 9/30\n",
      "315/315 [==============================] - 11s 34ms/step - loss: 0.4627 - acc: 0.8444 - val_loss: 0.3701 - val_acc: 0.8608\n",
      "Epoch 10/30\n",
      "315/315 [==============================] - 11s 34ms/step - loss: 0.4010 - acc: 0.8413 - val_loss: 0.3834 - val_acc: 0.8734\n",
      "Epoch 11/30\n",
      "315/315 [==============================] - 11s 34ms/step - loss: 0.4141 - acc: 0.8508 - val_loss: 0.3505 - val_acc: 0.8734\n",
      "Epoch 12/30\n",
      "315/315 [==============================] - 11s 34ms/step - loss: 0.3817 - acc: 0.8635 - val_loss: 0.3170 - val_acc: 0.8861\n",
      "Epoch 13/30\n",
      "315/315 [==============================] - 11s 34ms/step - loss: 0.3578 - acc: 0.8667 - val_loss: 0.3259 - val_acc: 0.8861\n",
      "Epoch 14/30\n",
      "315/315 [==============================] - 11s 34ms/step - loss: 0.3243 - acc: 0.8698 - val_loss: 0.3154 - val_acc: 0.8987\n",
      "Epoch 15/30\n",
      "315/315 [==============================] - 11s 35ms/step - loss: 0.3614 - acc: 0.8794 - val_loss: 0.3081 - val_acc: 0.8987\n",
      "Epoch 16/30\n",
      "315/315 [==============================] - 11s 35ms/step - loss: 0.3207 - acc: 0.8889 - val_loss: 0.2933 - val_acc: 0.8987\n",
      "Epoch 17/30\n",
      "315/315 [==============================] - 12s 37ms/step - loss: 0.3114 - acc: 0.8889 - val_loss: 0.2877 - val_acc: 0.8861\n",
      "Epoch 18/30\n",
      "315/315 [==============================] - 12s 37ms/step - loss: 0.3354 - acc: 0.8794 - val_loss: 0.2671 - val_acc: 0.8861\n",
      "Epoch 19/30\n",
      "315/315 [==============================] - 12s 37ms/step - loss: 0.3154 - acc: 0.8889 - val_loss: 0.2691 - val_acc: 0.8987\n",
      "Epoch 20/30\n",
      "315/315 [==============================] - 12s 37ms/step - loss: 0.3205 - acc: 0.8921 - val_loss: 0.2457 - val_acc: 0.9114\n",
      "Epoch 21/30\n",
      "315/315 [==============================] - 12s 37ms/step - loss: 0.2810 - acc: 0.9048 - val_loss: 0.2452 - val_acc: 0.9114\n",
      "Epoch 22/30\n",
      "315/315 [==============================] - 11s 36ms/step - loss: 0.2877 - acc: 0.8825 - val_loss: 0.2393 - val_acc: 0.9114\n",
      "Epoch 23/30\n",
      "315/315 [==============================] - 12s 38ms/step - loss: 0.2800 - acc: 0.9143 - val_loss: 0.2312 - val_acc: 0.9114\n",
      "Epoch 24/30\n",
      "315/315 [==============================] - 11s 36ms/step - loss: 0.2960 - acc: 0.8921 - val_loss: 0.2295 - val_acc: 0.9114\n",
      "Epoch 25/30\n",
      "315/315 [==============================] - 12s 37ms/step - loss: 0.2977 - acc: 0.9048 - val_loss: 0.2294 - val_acc: 0.8987\n",
      "Epoch 26/30\n",
      "315/315 [==============================] - 13s 41ms/step - loss: 0.2909 - acc: 0.8889 - val_loss: 0.2294 - val_acc: 0.9114\n",
      "Epoch 27/30\n",
      "315/315 [==============================] - 12s 37ms/step - loss: 0.2651 - acc: 0.9048 - val_loss: 0.2275 - val_acc: 0.8987\n",
      "Epoch 28/30\n",
      "315/315 [==============================] - 12s 37ms/step - loss: 0.2831 - acc: 0.8984 - val_loss: 0.2282 - val_acc: 0.9241\n",
      "Epoch 29/30\n",
      "315/315 [==============================] - 12s 37ms/step - loss: 0.2713 - acc: 0.9016 - val_loss: 0.2253 - val_acc: 0.9114\n",
      "Epoch 30/30\n",
      "315/315 [==============================] - 12s 37ms/step - loss: 0.2741 - acc: 0.8889 - val_loss: 0.2255 - val_acc: 0.9114\n"
     ]
    }
   ],
   "source": [
    "from keras.callbacks import LearningRateScheduler, ModelCheckpoint\n",
    "\n",
    "def lr_schedule(epoch):\n",
    "    return lr * (0.1 ** int(epoch / 10))\n",
    "\n",
    "batch_size = 32\n",
    "epochs = 30\n",
    "\n",
    "history = model.fit(X, Y,\n",
    "          batch_size=batch_size,\n",
    "          epochs=epochs,\n",
    "          validation_split=0.2,\n",
    "          callbacks=[LearningRateScheduler(lr_schedule),\n",
    "                     ModelCheckpoint('model.h5', save_best_only=True)]\n",
    "          )"
   ]
  },
  {
   "cell_type": "code",
   "execution_count": 20,
   "metadata": {},
   "outputs": [
    {
     "data": {
      "text/plain": [
       "[<matplotlib.lines.Line2D at 0x7fcf95749dd8>]"
      ]
     },
     "execution_count": 20,
     "metadata": {},
     "output_type": "execute_result"
    },
    {
     "data": {
      "image/png": "[encoded data removed]",
      "text/plain": [
       "<Figure size 432x288 with 1 Axes>"
      ]
     },
     "metadata": {},
     "output_type": "display_data"
    }
   ],
   "source": [
    "plt.plot(history.history['loss'])"
   ]
  },
  {
   "cell_type": "code",
   "execution_count": 21,
   "metadata": {},
   "outputs": [
    {
     "name": "stdout",
     "output_type": "stream",
     "text": [
      "Saved model to disk\n"
     ]
    }
   ],
   "source": [
    "# serialize model to JSON\n",
    "model_json = model.to_json()\n",
    "with open(\"eyes-model.json\", \"w\") as json_file:\n",
    "    json_file.write(model_json)\n",
    "# serialize weights to HDF5\n",
    "model.save_weights(\"eyes-model.h5\")\n",
    "print(\"Saved model to disk\")"
   ]
  },
  {
   "cell_type": "code",
   "execution_count": null,
   "metadata": {},
   "outputs": [],
   "source": [
    "json_file = open('eyes-model.json', 'r')\n",
    "loaded_model_json = json_file.read()\n",
    "json_file.close()\n",
    "loaded_model = model_from_json(loaded_model_json)\n",
    "loaded_model.load_weights(\"eyes-model.h5\")\n",
    "print(\"Loaded model from disk\")"
   ]
  },
  {
   "cell_type": "code",
   "execution_count": null,
   "metadata": {},
   "outputs": [],
   "source": []
  }
 ],
 "metadata": {
  "kernelspec": {
   "display_name": "Python 3",
   "language": "python",
   "name": "python3"
  },
  "language_info": {
   "codemirror_mode": {
    "name": "ipython",
    "version": 3
   },
   "file_extension": ".py",
   "mimetype": "text/x-python",
   "name": "python",
   "nbconvert_exporter": "python",
   "pygments_lexer": "ipython3",
   "version": "3.5.2"
  }
 },
 "nbformat": 4,
 "nbformat_minor": 2
}
